{
  "nbformat": 4,
  "nbformat_minor": 0,
  "metadata": {
    "colab": {
      "name": "Keshav.ipynb",
      "provenance": [],
      "collapsed_sections": [],
      "include_colab_link": true
    },
    "kernelspec": {
      "name": "python3",
      "display_name": "Python 3"
    }
  },
  "cells": [
    {
      "cell_type": "markdown",
      "metadata": {
        "id": "view-in-github",
        "colab_type": "text"
      },
      "source": [
        "<a href=\"https://colab.research.google.com/github/keshav211/IITM-Stats/blob/main/Keshav.ipynb\" target=\"_parent\"><img src=\"https://colab.research.google.com/assets/colab-badge.svg\" alt=\"Open In Colab\"/></a>"
      ]
    },
    {
      "cell_type": "markdown",
      "metadata": {
        "id": "DFVYyoMKKj7i"
      },
      "source": [
        "# Probability in Python"
      ]
    },
    {
      "cell_type": "markdown",
      "metadata": {
        "id": "yQnPw68Ono8S"
      },
      "source": [
        "# Importing packages\n",
        "\n",
        "You can ignore this part for now."
      ]
    },
    {
      "cell_type": "code",
      "metadata": {
        "id": "pV7_0aGuiytb"
      },
      "source": [
        "import numpy as np"
      ],
      "execution_count": null,
      "outputs": []
    },
    {
      "cell_type": "markdown",
      "metadata": {
        "id": "8t26cBgqYdR0"
      },
      "source": [
        "# Import statistics module\n",
        "We will use scipy.stats, which has several functions for statistics and probability distributions. "
      ]
    },
    {
      "cell_type": "code",
      "metadata": {
        "id": "cfuXiM6_YopX"
      },
      "source": [
        "import scipy.stats as st"
      ],
      "execution_count": null,
      "outputs": []
    },
    {
      "cell_type": "markdown",
      "metadata": {
        "id": "oixdxHiLXEbG"
      },
      "source": [
        "# Import pandas, matplotlib"
      ]
    },
    {
      "cell_type": "code",
      "metadata": {
        "id": "253oJrrPXJbG"
      },
      "source": [
        "import pandas as pd\n",
        "import matplotlib.pyplot as plt"
      ],
      "execution_count": null,
      "outputs": []
    },
    {
      "cell_type": "markdown",
      "metadata": {
        "id": "_Fva8lrNdOjr"
      },
      "source": [
        "# Fitting a distribution and estimating parameters\n",
        "Interarrival times in a Gamma ray experiment are given in the book \"Mathematical Statistics and Data Analysis\" by John Rice. The data is in the form of an excel file. \n",
        "\n",
        "We will use the pandas module in python to read the excel file."
      ]
    },
    {
      "cell_type": "code",
      "metadata": {
        "colab": {
          "base_uri": "https://localhost:8080/",
          "height": 419
        },
        "id": "Q3nijj-BcZ2c",
        "outputId": "b11d22eb-4b60-4448-a574-5f4d19e62f42"
      },
      "source": [
        "df = pd.read_excel(r'/content/bunny.xlsx')\n",
        "df"
      ],
      "execution_count": null,
      "outputs": [
        {
          "output_type": "execute_result",
          "data": {
            "text/html": [
              "<div>\n",
              "<style scoped>\n",
              "    .dataframe tbody tr th:only-of-type {\n",
              "        vertical-align: middle;\n",
              "    }\n",
              "\n",
              "    .dataframe tbody tr th {\n",
              "        vertical-align: top;\n",
              "    }\n",
              "\n",
              "    .dataframe thead th {\n",
              "        text-align: right;\n",
              "    }\n",
              "</style>\n",
              "<table border=\"1\" class=\"dataframe\">\n",
              "  <thead>\n",
              "    <tr style=\"text-align: right;\">\n",
              "      <th></th>\n",
              "      <th>Unnamed: 0</th>\n",
              "      <th>Unnamed: 1</th>\n",
              "      <th>Data</th>\n",
              "    </tr>\n",
              "  </thead>\n",
              "  <tbody>\n",
              "    <tr>\n",
              "      <th>0</th>\n",
              "      <td>NaN</td>\n",
              "      <td>NaN</td>\n",
              "      <td>518</td>\n",
              "    </tr>\n",
              "    <tr>\n",
              "      <th>1</th>\n",
              "      <td>NaN</td>\n",
              "      <td>NaN</td>\n",
              "      <td>400</td>\n",
              "    </tr>\n",
              "    <tr>\n",
              "      <th>2</th>\n",
              "      <td>NaN</td>\n",
              "      <td>NaN</td>\n",
              "      <td>532</td>\n",
              "    </tr>\n",
              "    <tr>\n",
              "      <th>3</th>\n",
              "      <td>NaN</td>\n",
              "      <td>NaN</td>\n",
              "      <td>546</td>\n",
              "    </tr>\n",
              "    <tr>\n",
              "      <th>4</th>\n",
              "      <td>NaN</td>\n",
              "      <td>NaN</td>\n",
              "      <td>528</td>\n",
              "    </tr>\n",
              "    <tr>\n",
              "      <th>...</th>\n",
              "      <td>...</td>\n",
              "      <td>...</td>\n",
              "      <td>...</td>\n",
              "    </tr>\n",
              "    <tr>\n",
              "      <th>4495</th>\n",
              "      <td>NaN</td>\n",
              "      <td>NaN</td>\n",
              "      <td>497</td>\n",
              "    </tr>\n",
              "    <tr>\n",
              "      <th>4496</th>\n",
              "      <td>NaN</td>\n",
              "      <td>NaN</td>\n",
              "      <td>529</td>\n",
              "    </tr>\n",
              "    <tr>\n",
              "      <th>4497</th>\n",
              "      <td>NaN</td>\n",
              "      <td>NaN</td>\n",
              "      <td>524</td>\n",
              "    </tr>\n",
              "    <tr>\n",
              "      <th>4498</th>\n",
              "      <td>NaN</td>\n",
              "      <td>NaN</td>\n",
              "      <td>400</td>\n",
              "    </tr>\n",
              "    <tr>\n",
              "      <th>4499</th>\n",
              "      <td>NaN</td>\n",
              "      <td>NaN</td>\n",
              "      <td>549</td>\n",
              "    </tr>\n",
              "  </tbody>\n",
              "</table>\n",
              "<p>4500 rows × 3 columns</p>\n",
              "</div>"
            ],
            "text/plain": [
              "      Unnamed: 0  Unnamed: 1  Data\n",
              "0            NaN         NaN   518\n",
              "1            NaN         NaN   400\n",
              "2            NaN         NaN   532\n",
              "3            NaN         NaN   546\n",
              "4            NaN         NaN   528\n",
              "...          ...         ...   ...\n",
              "4495         NaN         NaN   497\n",
              "4496         NaN         NaN   529\n",
              "4497         NaN         NaN   524\n",
              "4498         NaN         NaN   400\n",
              "4499         NaN         NaN   549\n",
              "\n",
              "[4500 rows x 3 columns]"
            ]
          },
          "metadata": {
            "tags": []
          },
          "execution_count": 127
        }
      ]
    },
    {
      "cell_type": "markdown",
      "metadata": {
        "id": "OJl42U8sds9o"
      },
      "source": [
        "We see that there are 3935 samples of data. To get a sense of the distribution, we should plot a histogram."
      ]
    },
    {
      "cell_type": "code",
      "metadata": {
        "colab": {
          "base_uri": "https://localhost:8080/",
          "height": 367
        },
        "id": "No3OVW3dc4MJ",
        "outputId": "41bffbeb-e8a7-41c8-f461-b082b26b643d"
      },
      "source": [
        "plt.hist(df['Data'],bins=20)"
      ],
      "execution_count": null,
      "outputs": [
        {
          "output_type": "execute_result",
          "data": {
            "text/plain": [
              "(array([231., 206., 250., 194., 270., 198., 244., 231., 247., 189., 237.,\n",
              "        207., 241., 218., 210., 214., 245., 200., 229., 239.]),\n",
              " array([400. , 407.5, 415. , 422.5, 430. , 437.5, 445. , 452.5, 460. ,\n",
              "        467.5, 475. , 482.5, 490. , 497.5, 505. , 512.5, 520. , 527.5,\n",
              "        535. , 542.5, 550. ]),\n",
              " <a list of 20 Patch objects>)"
            ]
          },
          "metadata": {
            "tags": []
          },
          "execution_count": 126
        },
        {
          "output_type": "display_data",
          "data": {
            "image/png": "[encoded data removed]",
            "text/plain": [
              "<Figure size 432x288 with 1 Axes>"
            ]
          },
          "metadata": {
            "tags": [],
            "needs_background": "light"
          }
        }
      ]
    },
    {
      "cell_type": "markdown",
      "metadata": {
        "id": "JZpmyV0eezlU"
      },
      "source": [
        "# Fitting a Uniform distribution\n",
        "From the histogram, the distribution could be modelled as Normal(**$a$**,**$b$**). The next step is to estimate $a$ and $b$ from the given samples.\n",
        "\n",
        "## Method of moments\n",
        "Suppose $m_1$ and $m_2$ are the first and second moments of the samples. The method of moments estimates are obtained by solving\n",
        "$$m_1=\\frac{a+b}{2},$$\n",
        "$$m_2=\\frac{a^2 +ab + b^2}{3}.$$\n",
        "##The solution results is\n",
        "$${a}={m_1-\\sqrt{3(m_2 - m_1^2)}}.$$\n",
        "$${b}={m_1+\\sqrt{3(m_2 - m_1^2)}}.$$\n",
        "\n",
        "\n",
        "\n",
        "> Here $m_1$ is observed to be the $sample$ $mean$ and it can be observed that $\\sqrt{(m_2 - m_1^2)}$ is nothing but the $variance$ of the observations.  \n",
        "\n"
      ]
    },
    {
      "cell_type": "code",
      "metadata": {
        "colab": {
          "base_uri": "https://localhost:8080/"
        },
        "id": "UBtNJU6gjB23",
        "outputId": "147acde6-3268-4a5b-8b21-626d4f7f7e35"
      },
      "source": [
        "x = np.array(df['Data'])\n",
        "m1 = np.average(x)\n",
        "ss = np.var(x)\n",
        "print(m1)\n",
        "print(ss)\n"
      ],
      "execution_count": null,
      "outputs": [
        {
          "output_type": "stream",
          "text": [
            "474.5417777777778\n",
            "1891.7993657283948\n"
          ],
          "name": "stdout"
        }
      ]
    },
    {
      "cell_type": "code",
      "metadata": {
        "colab": {
          "base_uri": "https://localhost:8080/"
        },
        "id": "Qdmlr7evlD9R",
        "outputId": "f516108f-5125-46cc-9102-02cd171dcf77"
      },
      "source": [
        "a = m1 - (1.73*(ss**0.5))\n",
        "b = m1 + (1.73*(ss**0.5))\n",
        "print(a)\n",
        "print(b)"
      ],
      "execution_count": null,
      "outputs": [
        {
          "output_type": "stream",
          "text": [
            "399.2957391997336\n",
            "549.787816355822\n"
          ],
          "name": "stdout"
        }
      ]
    },
    {
      "cell_type": "markdown",
      "metadata": {
        "id": "CDqtb1rbtNoZ"
      },
      "source": [
        "## **Check to see if the distribution used fit's or not.**"
      ]
    },
    {
      "cell_type": "markdown",
      "metadata": {
        "id": "ZLZ853v0nr66"
      },
      "source": [
        "The data generated was generated using python for a range of **400** to **550** hence the value that we get of the estimators fit and the method of moment satisfies our expression."
      ]
    },
    {
      "cell_type": "markdown",
      "metadata": {
        "id": "USKGGSPkqXuH"
      },
      "source": [
        "# Bootstrap\n",
        "How do we find the bias and variance of the estimator? Theoretical derivations of the sampling distributions may be too cumbersome and difficult in most cases. Bootstrap is a Monte Carlo simulation method for computing metrics such as bias, variance and confidence intervals for estimators.\n",
        "\n",
        "In the above example, we have found ${a}=399.2957...$ and ${b}=549.7878....$. Using these values, we simulate $n=4500$ *iid* samples from uniform$(399.2957...,549.7878....)$ and, using the simulated samples, we compute new estimates of $a$ and $b$ and call them $\\hat{a}$ and $\\hat{b}$. Now, repeat the simulation $N$ times to get estimates $\\hat{a}_i$ and $\\hat{b}_i$, $i=1,2,\\ldots,N$.\n",
        "\n",
        "The sample variance of $\\{\\hat{a}_1, \\hat{a}_2,\\ldots,\\hat{a}_N\\}$ is taken to be the bootstrap estimate for the variance of the estimator."
      ]
    },
    {
      "cell_type": "code",
      "metadata": {
        "id": "NOezpMTR1K3U"
      },
      "source": [
        "N = 1000\n",
        "n = 4500\n",
        "a1 = np.zeros(N)\n",
        "b1 = np.zeros(N)\n",
        "for i in np.arange(N):\n",
        "  xi = st.uniform.rvs(a,b,size=n)\n",
        "  m1i = np.average(xi); ssi = np.var(xi) \n",
        "  a1[i] = m1i - (1.73*(ssi**0.5)) ; b1[i] = m1 + (1.73*(ssi**0.5))"
      ],
      "execution_count": null,
      "outputs": []
    },
    {
      "cell_type": "markdown",
      "metadata": {
        "id": "C8iJSHwo4xFl"
      },
      "source": [
        "We can see the histograms of the estimates to get an idea of the spread of the values."
      ]
    },
    {
      "cell_type": "code",
      "metadata": {
        "colab": {
          "base_uri": "https://localhost:8080/",
          "height": 367
        },
        "id": "LhBsFxOs5Uco",
        "outputId": "77849be7-f5d9-471a-f743-fa0302505f77"
      },
      "source": [
        "ax1 = plt.subplot(121)\n",
        "ax1.hist(a1,density=True)\n",
        "ax2 = plt.subplot(122)\n",
        "ax2.hist(b1,density=True)"
      ],
      "execution_count": null,
      "outputs": [
        {
          "output_type": "execute_result",
          "data": {
            "text/plain": [
              "(array([0.00459427, 0.0130171 , 0.04517698, 0.1454852 , 0.20367928,\n",
              "        0.1853022 , 0.11868529, 0.04211414, 0.00612569, 0.00153142]),\n",
              " array([742.7332999 , 744.03927469, 745.34524948, 746.65122427,\n",
              "        747.95719906, 749.26317385, 750.56914864, 751.87512343,\n",
              "        753.18109822, 754.48707301, 755.79304779]),\n",
              " <a list of 10 Patch objects>)"
            ]
          },
          "metadata": {
            "tags": []
          },
          "execution_count": 134
        },
        {
          "output_type": "display_data",
          "data": {
            "image/png": "[encoded data removed]",
            "text/plain": [
              "<Figure size 432x288 with 2 Axes>"
            ]
          },
          "metadata": {
            "tags": [],
            "needs_background": "light"
          }
        }
      ]
    },
    {
      "cell_type": "markdown",
      "metadata": {
        "id": "hr_MYGs02xiP"
      },
      "source": [
        "Notice how the histograms look roughly normal.\n",
        "\n",
        "The sample standard deviations of the estimates is a bootstrap estimate for the standard error of the estimator."
      ]
    },
    {
      "cell_type": "code",
      "metadata": {
        "colab": {
          "base_uri": "https://localhost:8080/"
        },
        "id": "zePWrNkj2gYb",
        "outputId": "0bb1747f-3899-4e2a-8c40-e40734f538d7"
      },
      "source": [
        "print(np.sqrt(np.var(a1)))\n",
        "print(np.sqrt(np.var(b1)))"
      ],
      "execution_count": null,
      "outputs": [
        {
          "output_type": "stream",
          "text": [
            "3.105387101130484\n",
            "1.8452024076591012\n"
          ],
          "name": "stdout"
        }
      ]
    },
    {
      "cell_type": "markdown",
      "metadata": {
        "id": "eMyCTvb-7I-r"
      },
      "source": [
        "## Confidence intervals\n",
        "Suppose a parameter $\\theta$ is estimated as $\\hat{\\theta}$, and suppose the distribution of $\\hat{\\theta}-\\theta$ is known. Then, to obtain $(100(1-\\alpha))$% confidence intervals (typical values are $\\alpha=0.1$ for 90% confidence intervals and $\\alpha=0.05$ for 95% confidence intervals), we use the CDF of $\\hat{\\theta}-\\theta$ to obtain $\\delta_1$ and $\\delta_2$ such that\n",
        "$$P(\\hat{\\theta}-\\theta\\le\\delta_1)=1-\\frac{a}{2},$$\n",
        "$$P(\\hat{\\theta}-\\theta\\le\\delta_2)=\\frac{a}{2}.$$\n",
        "Actually, the inverse of the CDF of $\\hat{\\theta}-\\theta$ is used to find the above $\\delta_1$ and $\\delta_2$. From the above, we see that\n",
        "$$P(\\hat{\\theta}-\\theta \\le \\delta_1)-P(\\hat{\\theta}-\\theta \\le \\delta_2)= P(\\delta_2< \\hat{\\theta}-\\theta \\le \\delta_1)=1-\\frac{a}{2}-\\frac{a}{2}=1-a.$$\n",
        "The above is rewritten as\n",
        "$$P(\\hat{\\theta}-\\delta_1\\le\\theta<\\hat{\\theta}-\\delta_2)=1-a,$$\n",
        "and $[\\hat{\\theta}-\\delta_1,\\hat{\\theta}-\\delta_2]$ is interpreted as the $100(1-a)$% confidence interval.\n",
        "\n",
        "## Bootstrap confidence intervals for **a**\n",
        "The CDF of $\\hat{\\theta}-\\theta$ might be difficult to determine in many cases, and the bootstrap method is used often to estimate $\\delta_1$ and $\\delta_2$. We consider the list of numbers $\\{\\hat{a_1}-399.2957...,\\ldots,\\hat{a}_N-399.2957...\\}$ and pick the $100(a)$-th percentile and $100(1-a)$-th percentile."
      ]
    },
    {
      "cell_type": "code",
      "metadata": {
        "colab": {
          "base_uri": "https://localhost:8080/"
        },
        "id": "_ZbTUlDjggDZ",
        "outputId": "12e80bbf-d3e3-413e-91ac-d00ed243913e"
      },
      "source": [
        "del1 = np.percentile(a1 - a, 97.5)\n",
        "del2 = np.percentile(a1 -a, 2.5)\n",
        "print([del1,del2])"
      ],
      "execution_count": null,
      "outputs": [
        {
          "output_type": "stream",
          "text": [
            "[6.4962515202825255, -5.022722550698198]\n"
          ],
          "name": "stdout"
        }
      ]
    },
    {
      "cell_type": "markdown",
      "metadata": {
        "id": "wPVrUEyxlJxO"
      },
      "source": [
        "The 95% confidence interval for **$a$** using the method of moments estimator works out to $[(399.2957-6.49625),(399.2957-(-5.0227))]=[392.7995,404.3184]$."
      ]
    },
    {
      "cell_type": "markdown",
      "metadata": {
        "id": "UC8o_-D7x9AE"
      },
      "source": [
        "## Maximum likelihood\n",
        "We now turn to the maximum likelihood estimator for $\\alpha$ and $\\beta$. The likelihood $L(x_1,\\ldots,x_n)$ can be written as\n",
        "$$L = \\frac{\\beta^\\alpha}{\\Gamma(\\alpha)}x_1^{\\alpha-1}e^{-\\beta x_1}\\,\\frac{\\beta^\\alpha}{\\Gamma(\\alpha)}x_2^{\\alpha-1}e^{-\\beta x_2}\\cdots \\frac{\\beta^\\alpha}{\\Gamma(\\alpha)}x_n^{\\alpha-1}e^{-\\beta x_n}= \\frac{\\beta^{n\\alpha}}{\\Gamma(\\alpha)^n}(x_1\\cdots x_n)^{\\alpha-1}e^{-\\beta(x_1+\\cdots+x_n)},$$\n",
        "$$\\log L = n\\alpha\\log\\beta-n\\log\\Gamma(\\alpha)+(\\alpha-1)\\log(x_1\\cdots x_n)-\\beta(x_1+\\cdots+x_n).$$\n",
        "Differentiating $\\log L$ with respect to $\\beta$ and equating to zero, we get\n",
        "$$n\\alpha\\frac{1}{\\beta}-(x_1+\\cdots+x_n)=0,\\text{or }\\alpha=\\beta \\frac{x_1+\\cdots+x_n}{n}.$$\n",
        "Differentiating $\\log L$ with respect to $\\alpha$ and equating to zero, we get\n",
        "$$n\\log\\beta-n\\frac{\\Gamma'(\\alpha)}{\\Gamma(\\alpha)}+\\log(x_1\\cdots x_n)=0.$$\n",
        "So, we get two equations in the two variables $\\alpha$ and $\\beta$. However, the equations do not have a closed form solution, and we need to solve them numerically or approximately. From the first equation, we have $\\log\\beta=\\log\\alpha-\\log\\frac{x_1+\\cdots+x_n}{n}$. Using this in the second equation, we get\n",
        "$$\\log\\alpha - \\frac{\\Gamma'(\\alpha)}{\\Gamma(\\alpha)}=\\log\\frac{x_1+\\cdots+x_n}{n}-\\frac{1}{n}\\log(x_1\\cdots x_n).$$\n",
        "We will now solve the above equation to find the ML estimate of $\\alpha$. This will be a numerical solution."
      ]
    },
    {
      "cell_type": "code",
      "metadata": {
        "id": "GYlRKzRjvt4M"
      },
      "source": [
        "lm1 = np.average(np.log(x))\n",
        "#Write the equation as a function\n",
        "#digamma is the function Gamma'/Gamma\n",
        "from scipy.special import digamma\n",
        "fML = lambda a: (np.log(a) - digamma(a) - np.log(m1)+lm1)"
      ],
      "execution_count": null,
      "outputs": []
    },
    {
      "cell_type": "markdown",
      "metadata": {
        "id": "R4XZ35_byjn-"
      },
      "source": [
        "We can plot the above function to see how it looks."
      ]
    },
    {
      "cell_type": "code",
      "metadata": {
        "colab": {
          "base_uri": "https://localhost:8080/",
          "height": 265
        },
        "id": "0JRopCjGynEM",
        "outputId": "f7e2e174-dd43-409a-b6ab-dcfe0072e0ad"
      },
      "source": [
        "fig, ax = plt.subplots(1,1)\n",
        "\n",
        "xx = np.linspace(0.1,2,50)\n",
        "ax.plot(xx,fML(xx))\n",
        "ax.grid(True)\n",
        "plt.show()"
      ],
      "execution_count": null,
      "outputs": [
        {
          "output_type": "display_data",
          "data": {
            "image/png": "[encoded data removed]",
            "text/plain": [
              "<Figure size 432x288 with 1 Axes>"
            ]
          },
          "metadata": {
            "tags": [],
            "needs_background": "light"
          }
        }
      ]
    },
    {
      "cell_type": "code",
      "metadata": {
        "id": "-mbVnUtMyckC",
        "colab": {
          "base_uri": "https://localhost:8080/",
          "height": 357
        },
        "outputId": "3d7c064e-da62-41f1-c02c-f15807bd42f7"
      },
      "source": [
        "#For solving numerically, we will use scipy.optimize\n",
        "import scipy.optimize as sopt\n",
        "sol = sopt.root_scalar(fML, bracket=[0.1,2])\n",
        "sol.root"
      ],
      "execution_count": null,
      "outputs": [
        {
          "output_type": "error",
          "ename": "ValueError",
          "evalue": "ignored",
          "traceback": [
            "\u001b[0;31m---------------------------------------------------------------------------\u001b[0m",
            "\u001b[0;31mValueError\u001b[0m                                Traceback (most recent call last)",
            "\u001b[0;32m<ipython-input-151-67deadf0a56b>\u001b[0m in \u001b[0;36m<module>\u001b[0;34m()\u001b[0m\n\u001b[1;32m      1\u001b[0m \u001b[0;31m#For solving numerically, we will use scipy.optimize\u001b[0m\u001b[0;34m\u001b[0m\u001b[0;34m\u001b[0m\u001b[0;34m\u001b[0m\u001b[0m\n\u001b[1;32m      2\u001b[0m \u001b[0;32mimport\u001b[0m \u001b[0mscipy\u001b[0m\u001b[0;34m.\u001b[0m\u001b[0moptimize\u001b[0m \u001b[0;32mas\u001b[0m \u001b[0msopt\u001b[0m\u001b[0;34m\u001b[0m\u001b[0;34m\u001b[0m\u001b[0m\n\u001b[0;32m----> 3\u001b[0;31m \u001b[0msol\u001b[0m \u001b[0;34m=\u001b[0m \u001b[0msopt\u001b[0m\u001b[0;34m.\u001b[0m\u001b[0mroot_scalar\u001b[0m\u001b[0;34m(\u001b[0m\u001b[0mfML\u001b[0m\u001b[0;34m,\u001b[0m \u001b[0mbracket\u001b[0m\u001b[0;34m=\u001b[0m\u001b[0;34m[\u001b[0m\u001b[0;36m0.1\u001b[0m\u001b[0;34m,\u001b[0m\u001b[0;36m2\u001b[0m\u001b[0;34m]\u001b[0m\u001b[0;34m)\u001b[0m\u001b[0;34m\u001b[0m\u001b[0;34m\u001b[0m\u001b[0m\n\u001b[0m\u001b[1;32m      4\u001b[0m \u001b[0msol\u001b[0m\u001b[0;34m.\u001b[0m\u001b[0mroot\u001b[0m\u001b[0;34m\u001b[0m\u001b[0;34m\u001b[0m\u001b[0m\n",
            "\u001b[0;32m/usr/local/lib/python3.7/dist-packages/scipy/optimize/_root_scalar.py\u001b[0m in \u001b[0;36mroot_scalar\u001b[0;34m(f, args, method, bracket, fprime, fprime2, x0, x1, xtol, rtol, maxiter, options)\u001b[0m\n\u001b[1;32m    247\u001b[0m \u001b[0;34m\u001b[0m\u001b[0m\n\u001b[1;32m    248\u001b[0m         \u001b[0ma\u001b[0m\u001b[0;34m,\u001b[0m \u001b[0mb\u001b[0m \u001b[0;34m=\u001b[0m \u001b[0mbracket\u001b[0m\u001b[0;34m[\u001b[0m\u001b[0;34m:\u001b[0m\u001b[0;36m2\u001b[0m\u001b[0;34m]\u001b[0m\u001b[0;34m\u001b[0m\u001b[0;34m\u001b[0m\u001b[0m\n\u001b[0;32m--> 249\u001b[0;31m         \u001b[0mr\u001b[0m\u001b[0;34m,\u001b[0m \u001b[0msol\u001b[0m \u001b[0;34m=\u001b[0m \u001b[0mmethodc\u001b[0m\u001b[0;34m(\u001b[0m\u001b[0mf\u001b[0m\u001b[0;34m,\u001b[0m \u001b[0ma\u001b[0m\u001b[0;34m,\u001b[0m \u001b[0mb\u001b[0m\u001b[0;34m,\u001b[0m \u001b[0margs\u001b[0m\u001b[0;34m=\u001b[0m\u001b[0margs\u001b[0m\u001b[0;34m,\u001b[0m \u001b[0;34m**\u001b[0m\u001b[0mkwargs\u001b[0m\u001b[0;34m)\u001b[0m\u001b[0;34m\u001b[0m\u001b[0;34m\u001b[0m\u001b[0m\n\u001b[0m\u001b[1;32m    250\u001b[0m     \u001b[0;32melif\u001b[0m \u001b[0mmeth\u001b[0m \u001b[0;32min\u001b[0m \u001b[0;34m[\u001b[0m\u001b[0;34m'secant'\u001b[0m\u001b[0;34m]\u001b[0m\u001b[0;34m:\u001b[0m\u001b[0;34m\u001b[0m\u001b[0;34m\u001b[0m\u001b[0m\n\u001b[1;32m    251\u001b[0m         \u001b[0;32mif\u001b[0m \u001b[0mx0\u001b[0m \u001b[0;32mis\u001b[0m \u001b[0;32mNone\u001b[0m\u001b[0;34m:\u001b[0m\u001b[0;34m\u001b[0m\u001b[0;34m\u001b[0m\u001b[0m\n",
            "\u001b[0;32m/usr/local/lib/python3.7/dist-packages/scipy/optimize/zeros.py\u001b[0m in \u001b[0;36mbrentq\u001b[0;34m(f, a, b, args, xtol, rtol, maxiter, full_output, disp)\u001b[0m\n\u001b[1;32m    778\u001b[0m     \u001b[0;32mif\u001b[0m \u001b[0mrtol\u001b[0m \u001b[0;34m<\u001b[0m \u001b[0m_rtol\u001b[0m\u001b[0;34m:\u001b[0m\u001b[0;34m\u001b[0m\u001b[0;34m\u001b[0m\u001b[0m\n\u001b[1;32m    779\u001b[0m         \u001b[0;32mraise\u001b[0m \u001b[0mValueError\u001b[0m\u001b[0;34m(\u001b[0m\u001b[0;34m\"rtol too small (%g < %g)\"\u001b[0m \u001b[0;34m%\u001b[0m \u001b[0;34m(\u001b[0m\u001b[0mrtol\u001b[0m\u001b[0;34m,\u001b[0m \u001b[0m_rtol\u001b[0m\u001b[0;34m)\u001b[0m\u001b[0;34m)\u001b[0m\u001b[0;34m\u001b[0m\u001b[0;34m\u001b[0m\u001b[0m\n\u001b[0;32m--> 780\u001b[0;31m     \u001b[0mr\u001b[0m \u001b[0;34m=\u001b[0m \u001b[0m_zeros\u001b[0m\u001b[0;34m.\u001b[0m\u001b[0m_brentq\u001b[0m\u001b[0;34m(\u001b[0m\u001b[0mf\u001b[0m\u001b[0;34m,\u001b[0m \u001b[0ma\u001b[0m\u001b[0;34m,\u001b[0m \u001b[0mb\u001b[0m\u001b[0;34m,\u001b[0m \u001b[0mxtol\u001b[0m\u001b[0;34m,\u001b[0m \u001b[0mrtol\u001b[0m\u001b[0;34m,\u001b[0m \u001b[0mmaxiter\u001b[0m\u001b[0;34m,\u001b[0m \u001b[0margs\u001b[0m\u001b[0;34m,\u001b[0m \u001b[0mfull_output\u001b[0m\u001b[0;34m,\u001b[0m \u001b[0mdisp\u001b[0m\u001b[0;34m)\u001b[0m\u001b[0;34m\u001b[0m\u001b[0;34m\u001b[0m\u001b[0m\n\u001b[0m\u001b[1;32m    781\u001b[0m     \u001b[0;32mreturn\u001b[0m \u001b[0mresults_c\u001b[0m\u001b[0;34m(\u001b[0m\u001b[0mfull_output\u001b[0m\u001b[0;34m,\u001b[0m \u001b[0mr\u001b[0m\u001b[0;34m)\u001b[0m\u001b[0;34m\u001b[0m\u001b[0;34m\u001b[0m\u001b[0m\n\u001b[1;32m    782\u001b[0m \u001b[0;34m\u001b[0m\u001b[0m\n",
            "\u001b[0;31mValueError\u001b[0m: f(a) and f(b) must have different signs"
          ]
        }
      ]
    },
    {
      "cell_type": "code",
      "metadata": {
        "id": "mtEG7bLVyIE5"
      },
      "source": [
        "alphaML = sol.root\n",
        "betaML = alphaML/m1\n",
        "print([alphaML, betaML])"
      ],
      "execution_count": null,
      "outputs": []
    },
    {
      "cell_type": "markdown",
      "metadata": {
        "id": "A8hWFmeSz2L3"
      },
      "source": [
        "Let us check the fit with the histogram."
      ]
    },
    {
      "cell_type": "code",
      "metadata": {
        "id": "hKzsq6Snz4ns"
      },
      "source": [
        "fig,ax = plt.subplots(1,1)\n",
        "ax.hist(x,density=True,bins=50)\n",
        "xx = np.linspace(0,300,50)\n",
        "ax.plot(xx, st.gamma.pdf(xx,alphaMM,scale=1/betaMM),lw='4',alpha=0.7,label='gamma fit MM')\n",
        "ax.plot(xx, st.gamma.pdf(xx,alphaML,scale=1/betaML),lw='1',label='gamma fit ML')\n",
        "ax.legend(loc='best')\n",
        "plt.show()"
      ],
      "execution_count": null,
      "outputs": []
    },
    {
      "cell_type": "markdown",
      "metadata": {
        "id": "3KQj7-L_0ZJ9"
      },
      "source": [
        "Both the curves are literally on top of each other showing very good fit. Let us use the bootstrap method to find variance and confidence intervals for the ML estimator."
      ]
    },
    {
      "cell_type": "code",
      "metadata": {
        "id": "jyYVisUY0p6p"
      },
      "source": [
        "N = 1000\n",
        "n = 3935\n",
        "alpha_hatML = np.zeros(N)\n",
        "beta_hatML = np.zeros(N)\n",
        "for i in np.arange(N):\n",
        "  xi = st.gamma.rvs(alphaMM,scale=1/betaMM,size=n)\n",
        "  m1i = np.average(xi); lm1i = np.average(np.log(xi))\n",
        "  fMLi = lambda a: (np.log(a) - digamma(a) - np.log(m1i)+lm1i)\n",
        "  soli = sopt.root_scalar(fMLi, bracket = [0.1,2]) \n",
        "  alpha_hatML[i] = soli.root; beta_hatML[i] = soli.root / m1i"
      ],
      "execution_count": null,
      "outputs": []
    },
    {
      "cell_type": "code",
      "metadata": {
        "id": "DjhTGkNF1jhV"
      },
      "source": [
        "print(np.sqrt(np.var(alpha_hatML)))\n",
        "print(np.sqrt(np.var(beta_hatML)))"
      ],
      "execution_count": null,
      "outputs": []
    },
    {
      "cell_type": "markdown",
      "metadata": {
        "id": "zGRsJ7nzS61q"
      },
      "source": [
        "We see that the variance of the bootstrap ML estimator is lesser than that of bootstrap MM estimator."
      ]
    }
  ]
}