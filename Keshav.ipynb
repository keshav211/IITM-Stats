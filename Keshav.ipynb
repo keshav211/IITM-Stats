{
  "nbformat": 4,
  "nbformat_minor": 0,
  "metadata": {
    "colab": {
      "name": "Keshav.ipynb",
      "provenance": [],
      "collapsed_sections": [],
      "include_colab_link": true
    },
    "kernelspec": {
      "name": "python3",
      "display_name": "Python 3"
    }
  },
  "cells": [
    {
      "cell_type": "markdown",
      "metadata": {
        "id": "view-in-github",
        "colab_type": "text"
      },
      "source": [
        "<a href=\"https://colab.research.google.com/github/keshav211/IITM-Stats/blob/main/Keshav.ipynb\" target=\"_parent\"><img src=\"https://colab.research.google.com/assets/colab-badge.svg\" alt=\"Open In Colab\"/></a>"
      ]
    },
    {
      "cell_type": "markdown",
      "metadata": {
        "id": "DFVYyoMKKj7i"
      },
      "source": [
        "# Probability in Python"
      ]
    },
    {
      "cell_type": "markdown",
      "metadata": {
        "id": "yQnPw68Ono8S"
      },
      "source": [
        "# Importing packages\n",
        "\n",
        "You can ignore this part for now."
      ]
    },
    {
      "cell_type": "code",
      "metadata": {
        "id": "pV7_0aGuiytb"
      },
      "source": [
        "import numpy as np\n",
        "import requests\n",
        "import io"
      ],
      "execution_count": 23,
      "outputs": []
    },
    {
      "cell_type": "markdown",
      "metadata": {
        "id": "8t26cBgqYdR0"
      },
      "source": [
        "# Import statistics module\n",
        "We will use scipy.stats, which has several functions for statistics and probability distributions. "
      ]
    },
    {
      "cell_type": "code",
      "metadata": {
        "id": "cfuXiM6_YopX"
      },
      "source": [
        "import scipy.stats as st"
      ],
      "execution_count": 24,
      "outputs": []
    },
    {
      "cell_type": "markdown",
      "metadata": {
        "id": "oixdxHiLXEbG"
      },
      "source": [
        "# Import pandas, matplotlib"
      ]
    },
    {
      "cell_type": "code",
      "metadata": {
        "id": "253oJrrPXJbG"
      },
      "source": [
        "import pandas as pd\n",
        "import matplotlib.pyplot as plt"
      ],
      "execution_count": 25,
      "outputs": []
    },
    {
      "cell_type": "markdown",
      "metadata": {
        "id": "_Fva8lrNdOjr"
      },
      "source": [
        "# Fitting a distribution and estimating parameters\n",
        "The given data are the marks scored by 4500 students,total out of 600 and \n",
        "\n",
        "We will use the pandas module in python to read the excel file. As the excel file had issues in being uploaded I have used request module to import data from my GITHUB profile.\n",
        "\n",
        "The link for the Excel file(data set): **https://drive.google.com/file/d/1q2z9_GDZn0e-kS0zbIAr4UbLhASinURJ/view?usp=sharing**"
      ]
    },
    {
      "cell_type": "code",
      "metadata": {
        "colab": {
          "base_uri": "https://localhost:8080/",
          "height": 419
        },
        "id": "Q3nijj-BcZ2c",
        "outputId": "e09c7109-92cb-482c-8df8-e92bb9335200"
      },
      "source": [
        "url=\"https://raw.githubusercontent.com/keshav211/IITM-Stats/main/Keshav_choudharyt.csv\"\n",
        "s=requests.get(url).content\n",
        "df=pd.read_csv(io.StringIO(s.decode('utf-8')))\n",
        "df"
      ],
      "execution_count": 26,
      "outputs": [
        {
          "output_type": "execute_result",
          "data": {
            "text/html": [
              "<div>\n",
              "<style scoped>\n",
              "    .dataframe tbody tr th:only-of-type {\n",
              "        vertical-align: middle;\n",
              "    }\n",
              "\n",
              "    .dataframe tbody tr th {\n",
              "        vertical-align: top;\n",
              "    }\n",
              "\n",
              "    .dataframe thead th {\n",
              "        text-align: right;\n",
              "    }\n",
              "</style>\n",
              "<table border=\"1\" class=\"dataframe\">\n",
              "  <thead>\n",
              "    <tr style=\"text-align: right;\">\n",
              "      <th></th>\n",
              "      <th>0</th>\n",
              "    </tr>\n",
              "  </thead>\n",
              "  <tbody>\n",
              "    <tr>\n",
              "      <th>0</th>\n",
              "      <td>518</td>\n",
              "    </tr>\n",
              "    <tr>\n",
              "      <th>1</th>\n",
              "      <td>400</td>\n",
              "    </tr>\n",
              "    <tr>\n",
              "      <th>2</th>\n",
              "      <td>532</td>\n",
              "    </tr>\n",
              "    <tr>\n",
              "      <th>3</th>\n",
              "      <td>546</td>\n",
              "    </tr>\n",
              "    <tr>\n",
              "      <th>4</th>\n",
              "      <td>528</td>\n",
              "    </tr>\n",
              "    <tr>\n",
              "      <th>...</th>\n",
              "      <td>...</td>\n",
              "    </tr>\n",
              "    <tr>\n",
              "      <th>4495</th>\n",
              "      <td>497</td>\n",
              "    </tr>\n",
              "    <tr>\n",
              "      <th>4496</th>\n",
              "      <td>529</td>\n",
              "    </tr>\n",
              "    <tr>\n",
              "      <th>4497</th>\n",
              "      <td>524</td>\n",
              "    </tr>\n",
              "    <tr>\n",
              "      <th>4498</th>\n",
              "      <td>400</td>\n",
              "    </tr>\n",
              "    <tr>\n",
              "      <th>4499</th>\n",
              "      <td>549</td>\n",
              "    </tr>\n",
              "  </tbody>\n",
              "</table>\n",
              "<p>4500 rows × 1 columns</p>\n",
              "</div>"
            ],
            "text/plain": [
              "        0\n",
              "0     518\n",
              "1     400\n",
              "2     532\n",
              "3     546\n",
              "4     528\n",
              "...   ...\n",
              "4495  497\n",
              "4496  529\n",
              "4497  524\n",
              "4498  400\n",
              "4499  549\n",
              "\n",
              "[4500 rows x 1 columns]"
            ]
          },
          "metadata": {
            "tags": []
          },
          "execution_count": 26
        }
      ]
    },
    {
      "cell_type": "markdown",
      "metadata": {
        "id": "OJl42U8sds9o"
      },
      "source": [
        "We see that there are 4500 samples of data. To get a sense of the distribution, we should plot a histogram."
      ]
    },
    {
      "cell_type": "markdown",
      "metadata": {
        "id": "JSEJ6MCGpRUi"
      },
      "source": [
        "##Plotting the Histogram"
      ]
    },
    {
      "cell_type": "code",
      "metadata": {
        "colab": {
          "base_uri": "https://localhost:8080/",
          "height": 367
        },
        "id": "No3OVW3dc4MJ",
        "outputId": "e943608a-52ef-430b-ae7b-594e40a2ac51"
      },
      "source": [
        "plt.hist(df['0'],bins=20)"
      ],
      "execution_count": 27,
      "outputs": [
        {
          "output_type": "execute_result",
          "data": {
            "text/plain": [
              "(array([231., 206., 250., 194., 270., 198., 244., 231., 247., 189., 237.,\n",
              "        207., 241., 218., 210., 214., 245., 200., 229., 239.]),\n",
              " array([400. , 407.5, 415. , 422.5, 430. , 437.5, 445. , 452.5, 460. ,\n",
              "        467.5, 475. , 482.5, 490. , 497.5, 505. , 512.5, 520. , 527.5,\n",
              "        535. , 542.5, 550. ]),\n",
              " <a list of 20 Patch objects>)"
            ]
          },
          "metadata": {
            "tags": []
          },
          "execution_count": 27
        },
        {
          "output_type": "display_data",
          "data": {
            "image/png": "[encoded data removed]",
            "text/plain": [
              "<Figure size 432x288 with 1 Axes>"
            ]
          },
          "metadata": {
            "tags": [],
            "needs_background": "light"
          }
        }
      ]
    },
    {
      "cell_type": "markdown",
      "metadata": {
        "id": "JZpmyV0eezlU"
      },
      "source": [
        "# **Fitting** **a** **Uniform** **distribution**\n",
        "From the histogram, the distribution could be modelled as Uniform(**$a$**,**$b$**). The next step is to estimate $a$ and $b$ from the given samples.\n",
        "\n",
        "## **Method** **of** **moments**\n",
        "Suppose $m_1$ and $m_2$ are the first and second moments of the samples. The method of moments estimates are obtained by solving\n",
        "$$m_1=\\frac{a+b}{2},$$\n",
        "$$m_2=\\frac{a^2 +ab + b^2}{3}.$$\n",
        "## **The** **solution** **results** **is**\n",
        "$${a}={m_1-\\sqrt{3(m_2 - m_1^2)}}.$$\n",
        "$${b}={m_1+\\sqrt{3(m_2 - m_1^2)}}.$$\n",
        "\n",
        "\n",
        "\n",
        "> Here $m_1$ is observed to be the $sample$ $mean$ and it can be observed that $\\sqrt{(m_2 - m_1^2)}$ is nothing but the $variance$ of the observations.  \n",
        "\n"
      ]
    },
    {
      "cell_type": "code",
      "metadata": {
        "colab": {
          "base_uri": "https://localhost:8080/"
        },
        "id": "UBtNJU6gjB23",
        "outputId": "a952499e-8178-44e5-982c-94dbdae45e2e"
      },
      "source": [
        "x = np.array(df['0'])\n",
        "m1 = np.average(x)\n",
        "ss = np.var(x)\n",
        "print(m1)\n",
        "print(ss)\n"
      ],
      "execution_count": 28,
      "outputs": [
        {
          "output_type": "stream",
          "text": [
            "474.5417777777778\n",
            "1891.7993657283948\n"
          ],
          "name": "stdout"
        }
      ]
    },
    {
      "cell_type": "code",
      "metadata": {
        "colab": {
          "base_uri": "https://localhost:8080/"
        },
        "id": "Qdmlr7evlD9R",
        "outputId": "50618961-bf25-4998-eeb7-6eb023e7fcdd"
      },
      "source": [
        "a = m1 - (1.73*(ss**0.5))\n",
        "b = m1 + (1.73*(ss**0.5))\n",
        "print('The value of \"a\" using methods of moment is: ',a)\n",
        "print('The value of \"b\" using methods of moment is: ',b)"
      ],
      "execution_count": 29,
      "outputs": [
        {
          "output_type": "stream",
          "text": [
            "The value of \"a\" using methods of moment is:  399.2957391997336\n",
            "The value of \"b\" using methods of moment is:  549.787816355822\n"
          ],
          "name": "stdout"
        }
      ]
    },
    {
      "cell_type": "markdown",
      "metadata": {
        "id": "CDqtb1rbtNoZ"
      },
      "source": [
        "## **Check to see if the distribution used fit's or not.**\n",
        "The data generated was generated using python for a range of **400** to **550** hence the value that we get of the estimators fit and the method of moment satisfies our expression."
      ]
    },
    {
      "cell_type": "markdown",
      "metadata": {
        "id": "USKGGSPkqXuH"
      },
      "source": [
        "# **Bootstrap** **Method**\n",
        "\n",
        "How do we find the bias and variance of the estimator? Theoretical derivations of the sampling distributions may be too cumbersome and difficult in most cases. Bootstrap is a Monte Carlo simulation method for computing metrics such as bias, variance and confidence intervals for estimators.\n",
        "<br></br>\n",
        "In the above example, we have found ${a}=399.2957...$ and ${b}=549.7878....$. Using these values, we simulate $n=4500$ *iid* samples from uniform$(399.2957...,549.7878....)$ and, using the simulated samples, we compute new estimates of $a$ and $b$ and call them $\\hat{a}$ and $\\hat{b}$. Now, repeat the simulation $N$ times to get estimates $\\hat{a}_i$ and $\\hat{b}_i$, $i=1,2,\\ldots,N$.\n",
        "<br></br>\n",
        "The sample variance of $\\{\\hat{a}_1, \\hat{a}_2,\\ldots,\\hat{a}_N\\}$ is taken to be the bootstrap estimate for the variance of the estimator."
      ]
    },
    {
      "cell_type": "code",
      "metadata": {
        "id": "NOezpMTR1K3U"
      },
      "source": [
        "N = 1000\n",
        "n = 4500\n",
        "a1 = np.zeros(N)\n",
        "b1 = np.zeros(N)\n",
        "for i in np.arange(N):\n",
        "  xi = st.uniform.rvs(a,b,size=n)\n",
        "  m1i = np.average(xi); ssi = np.var(xi) \n",
        "  a1[i] = m1i - (1.73*(ssi**0.5)) ; b1[i] = m1 + (1.73*(ssi**0.5))"
      ],
      "execution_count": 30,
      "outputs": []
    },
    {
      "cell_type": "markdown",
      "metadata": {
        "id": "C8iJSHwo4xFl"
      },
      "source": [
        "We can see the histograms of the estimates to get an idea of the spread of the values."
      ]
    },
    {
      "cell_type": "code",
      "metadata": {
        "colab": {
          "base_uri": "https://localhost:8080/",
          "height": 367
        },
        "id": "LhBsFxOs5Uco",
        "outputId": "c88bb781-34a6-41cf-cea4-2708e913d6a9"
      },
      "source": [
        "ax1 = plt.subplot(121)\n",
        "ax1.hist(a1,density=True)\n",
        "ax2 = plt.subplot(122)\n",
        "ax2.hist(b1,density=True)"
      ],
      "execution_count": 31,
      "outputs": [
        {
          "output_type": "execute_result",
          "data": {
            "text/plain": [
              "(array([0.0057548 , 0.03946152, 0.1044086 , 0.19566336, 0.18826433,\n",
              "        0.16113453, 0.08303361, 0.03206248, 0.00822115, 0.00411057]),\n",
              " array([743.72877664, 744.94515154, 746.16152643, 747.37790133,\n",
              "        748.59427622, 749.81065112, 751.02702602, 752.24340091,\n",
              "        753.45977581, 754.67615071, 755.8925256 ]),\n",
              " <a list of 10 Patch objects>)"
            ]
          },
          "metadata": {
            "tags": []
          },
          "execution_count": 31
        },
        {
          "output_type": "display_data",
          "data": {
            "image/png": "[encoded data removed]",
            "text/plain": [
              "<Figure size 432x288 with 2 Axes>"
            ]
          },
          "metadata": {
            "tags": [],
            "needs_background": "light"
          }
        }
      ]
    },
    {
      "cell_type": "markdown",
      "metadata": {
        "id": "hr_MYGs02xiP"
      },
      "source": [
        "Notice how the histograms look roughly normal.\n",
        "\n",
        "The sample standard deviations of the estimates is a bootstrap estimate for the standard error of the estimator."
      ]
    },
    {
      "cell_type": "code",
      "metadata": {
        "colab": {
          "base_uri": "https://localhost:8080/"
        },
        "id": "zePWrNkj2gYb",
        "outputId": "2d4f6fe5-097c-4d2c-eca9-d583a8615bdd"
      },
      "source": [
        "print(np.sqrt(np.var(a1)))\n",
        "print(np.sqrt(np.var(b1)))"
      ],
      "execution_count": 32,
      "outputs": [
        {
          "output_type": "stream",
          "text": [
            "2.9975362855806065\n",
            "1.8925789410353555\n"
          ],
          "name": "stdout"
        }
      ]
    },
    {
      "cell_type": "markdown",
      "metadata": {
        "id": "eMyCTvb-7I-r"
      },
      "source": [
        "# **Confidence** **intervals**\n",
        "Suppose a parameter $\\theta$ is estimated as $\\hat{\\theta}$, and suppose the distribution of $\\hat{\\theta}-\\theta$ is known. Then, to obtain $(100(1-\\alpha))$% confidence intervals (typical values are $\\alpha=0.1$ for 90% confidence intervals and $\\alpha=0.05$ for 95% confidence intervals), we use the CDF of $\\hat{\\theta}-\\theta$ to obtain $\\delta_1$ and $\\delta_2$ such that\n",
        "<br></br>\n",
        "$$P(\\hat{\\theta}-\\theta\\le\\delta_1)=1-\\frac{a}{2},$$\n",
        "$$P(\\hat{\\theta}-\\theta\\le\\delta_2)=\\frac{a}{2}.$$\n",
        "<br></br>\n",
        "Actually, the inverse of the CDF of $\\hat{\\theta}-\\theta$ is used to find the above $\\delta_1$ and $\\delta_2$. From the above, we see that\n",
        "$$P(\\hat{\\theta}-\\theta \\le \\delta_1)-P(\\hat{\\theta}-\\theta \\le \\delta_2)= P(\\delta_2< \\hat{\\theta}-\\theta \\le \\delta_1)=1-\\frac{a}{2}-\\frac{a}{2}=1-a.$$\n",
        "<br></br>\n",
        "The above is rewritten as\n",
        "$$P(\\hat{\\theta}-\\delta_1\\le\\theta<\\hat{\\theta}-\\delta_2)=1-a,$$\n",
        "and $[\\hat{\\theta}-\\delta_1,\\hat{\\theta}-\\delta_2]$ is interpreted as the $100(1-a)$% confidence interval.\n",
        "<br></br>\n",
        "## Bootstrap confidence intervals for **a**\n",
        "The CDF of $\\hat{\\theta}-\\theta$ might be difficult to determine in many cases, and the bootstrap method is used often to estimate $\\delta_1$ and $\\delta_2$. We consider the list of numbers $\\{\\hat{a_1}-399.2957...,\\ldots,\\hat{a}_N-399.2957...\\}$ and pick the $100(a)$-th percentile and $100(1-a)$-th percentile."
      ]
    },
    {
      "cell_type": "code",
      "metadata": {
        "colab": {
          "base_uri": "https://localhost:8080/"
        },
        "id": "_ZbTUlDjggDZ",
        "outputId": "2c1ae83d-b857-4a47-eb16-ff8f31f68693"
      },
      "source": [
        "del1 = np.percentile(a1 - a, 97.5)\n",
        "del2 = np.percentile(a1 -a, 2.5)\n",
        "print([del1,del2])"
      ],
      "execution_count": 33,
      "outputs": [
        {
          "output_type": "stream",
          "text": [
            "[6.148649246409519, -5.535339737023424]\n"
          ],
          "name": "stdout"
        }
      ]
    },
    {
      "cell_type": "markdown",
      "metadata": {
        "id": "wPVrUEyxlJxO"
      },
      "source": [
        "The 95% confidence interval for **$a$** using the method of moments estimator works out to $[(399.2957-6.49625),(399.2957-(-5.0227))]=[392.7995,404.3184]$.\n",
        "\n",
        "<br></br>\n",
        "It can be clearly observed that the confidence interval that we get for **$a$** stands up to the mark and is satisfactory.\n"
      ]
    },
    {
      "cell_type": "markdown",
      "metadata": {
        "id": "clVwwZT1gbwt"
      },
      "source": [
        "#**Maximum** **likelihood** **method**\n",
        "We now turn to the maximum likelihood estimator for  $a$  and  $b$.\n",
        "<br></br>\n",
        "First, $a≤min(X1,…,Xn)$ and $b≥max(X1,…,Xn)$\n",
        "<br></br>\n",
        "That is because otherwise we wouldn't be able to have the samples $X_i$ which are less than $a$ or greater than $b$ because the distribution is\n",
        "\n",
        "$$X_i ∼ Unif(a,b)$$\n",
        "\n",
        "and the minimum value $X_i$ can have is a, and the maximum value $X_i$ can have is $b$.\n",
        "\n",
        "The likelihood function is\n",
        "\n",
        "$$L(a,b)=\\prod_{i=1}^nf(x_i;a,b)={\\prod_{i=0}^n \\frac{1}{(b−a)}}=\\frac{1}{(b−a)^n}$$\n",
        "\n",
        "Consider the log-likelihood function\n",
        "\n",
        "$$logL(a,b)=log{\\prod_{i=0}^n}f(xi;a,b)=log{\\prod_{i=0}^n}\\frac{1}{(b−a)^n}=log((b−a)−n)=−n⋅log(b−a)$$\n",
        "<br></br>\n",
        "Note that we are looking for the arguments a and b that maximizes the likelihood (or the log-likelihood)\n",
        "\n",
        "Now, to find $\\hat{a}_{MLE}$ and $\\hat{b}_{MLE}$ take the log-likelihood function derivatives with respect to a and b\n",
        "\n",
        "$$\\frac{∂}{∂a}logL(a,b)=\\frac{n}{(b−a)}$$\n",
        "$$\\frac{∂}{∂b}logL(a,b)=\\frac{−n}{(b−a)}$$\n",
        "<br></br>\n",
        "We can see that the derivative with respect to a is monotonically increasing, So we take the largest a possible which is\n",
        "$$\\hat{a}_{MLE} = min(X1,...,Xn)$$\n",
        "\n",
        "We can also see that the derivative with respect to b is monotonically decreasing, so we take the smallest b possible which is\n",
        "$$\\hat{b}_{MLE} = max(X1,...,Xn)$$\n",
        "<br></br>\n",
        "**The following method can we calculated manually for a uniform distribution as we have already estimated the max and min value of the random variable and with n being know we get that the likewise estimators also have same value as that of the above estimators.**"
      ]
    }
  ]
}