{
  "nbformat": 4,
  "nbformat_minor": 0,
  "metadata": {
    "colab": {
      "name": "Keshav.ipynb",
      "provenance": [],
      "collapsed_sections": [],
      "include_colab_link": true
    },
    "kernelspec": {
      "name": "python3",
      "display_name": "Python 3"
    }
  },
  "cells": [
    {
      "cell_type": "markdown",
      "metadata": {
        "id": "view-in-github",
        "colab_type": "text"
      },
      "source": [
        "<a href=\"https://colab.research.google.com/github/keshav211/IITM-Stats/blob/main/Keshav.ipynb\" target=\"_parent\"><img src=\"https://colab.research.google.com/assets/colab-badge.svg\" alt=\"Open In Colab\"/></a>"
      ]
    },
    {
      "cell_type": "markdown",
      "metadata": {
        "id": "DFVYyoMKKj7i"
      },
      "source": [
        "# Probability in Python"
      ]
    },
    {
      "cell_type": "markdown",
      "metadata": {
        "id": "yQnPw68Ono8S"
      },
      "source": [
        "# Importing packages\n",
        "\n",
        "You can ignore this part for now."
      ]
    },
    {
      "cell_type": "code",
      "metadata": {
        "id": "pV7_0aGuiytb"
      },
      "source": [
        "import numpy as np"
      ],
      "execution_count": 74,
      "outputs": []
    },
    {
      "cell_type": "markdown",
      "metadata": {
        "id": "8t26cBgqYdR0"
      },
      "source": [
        "# Import statistics module\n",
        "We will use scipy.stats, which has several functions for statistics and probability distributions. "
      ]
    },
    {
      "cell_type": "code",
      "metadata": {
        "id": "cfuXiM6_YopX"
      },
      "source": [
        "import scipy.stats as st"
      ],
      "execution_count": 75,
      "outputs": []
    },
    {
      "cell_type": "markdown",
      "metadata": {
        "id": "oixdxHiLXEbG"
      },
      "source": [
        "# Import pandas, matplotlib"
      ]
    },
    {
      "cell_type": "code",
      "metadata": {
        "id": "253oJrrPXJbG"
      },
      "source": [
        "import pandas as pd\n",
        "import matplotlib.pyplot as plt"
      ],
      "execution_count": 76,
      "outputs": []
    },
    {
      "cell_type": "markdown",
      "metadata": {
        "id": "_Fva8lrNdOjr"
      },
      "source": [
        "# Fitting a distribution and estimating parameters\n",
        "The given data are the marks scored by 4500 students,total out of 600 and \n",
        "\n",
        "We will use the pandas module in python to read the excel file.\n",
        "\n",
        "The link for the Excel file(data set): **https://drive.google.com/file/d/1q2z9_GDZn0e-kS0zbIAr4UbLhASinURJ/view?usp=sharing**"
      ]
    },
    {
      "cell_type": "code",
      "metadata": {
        "colab": {
          "base_uri": "https://localhost:8080/",
          "height": 419
        },
        "id": "Q3nijj-BcZ2c",
        "outputId": "8198109d-0eab-47d7-db52-a0e393b20cfc"
      },
      "source": [
        "df = pd.read_excel(r'/content/drive/MyDrive/Colab Notebooks/Keshav_choudhary.xlsx') #helps in reading the \n",
        "df"
      ],
      "execution_count": 77,
      "outputs": [
        {
          "output_type": "execute_result",
          "data": {
            "text/html": [
              "<div>\n",
              "<style scoped>\n",
              "    .dataframe tbody tr th:only-of-type {\n",
              "        vertical-align: middle;\n",
              "    }\n",
              "\n",
              "    .dataframe tbody tr th {\n",
              "        vertical-align: top;\n",
              "    }\n",
              "\n",
              "    .dataframe thead th {\n",
              "        text-align: right;\n",
              "    }\n",
              "</style>\n",
              "<table border=\"1\" class=\"dataframe\">\n",
              "  <thead>\n",
              "    <tr style=\"text-align: right;\">\n",
              "      <th></th>\n",
              "      <th>Data</th>\n",
              "    </tr>\n",
              "  </thead>\n",
              "  <tbody>\n",
              "    <tr>\n",
              "      <th>0</th>\n",
              "      <td>518</td>\n",
              "    </tr>\n",
              "    <tr>\n",
              "      <th>1</th>\n",
              "      <td>400</td>\n",
              "    </tr>\n",
              "    <tr>\n",
              "      <th>2</th>\n",
              "      <td>532</td>\n",
              "    </tr>\n",
              "    <tr>\n",
              "      <th>3</th>\n",
              "      <td>546</td>\n",
              "    </tr>\n",
              "    <tr>\n",
              "      <th>4</th>\n",
              "      <td>528</td>\n",
              "    </tr>\n",
              "    <tr>\n",
              "      <th>...</th>\n",
              "      <td>...</td>\n",
              "    </tr>\n",
              "    <tr>\n",
              "      <th>4495</th>\n",
              "      <td>497</td>\n",
              "    </tr>\n",
              "    <tr>\n",
              "      <th>4496</th>\n",
              "      <td>529</td>\n",
              "    </tr>\n",
              "    <tr>\n",
              "      <th>4497</th>\n",
              "      <td>524</td>\n",
              "    </tr>\n",
              "    <tr>\n",
              "      <th>4498</th>\n",
              "      <td>400</td>\n",
              "    </tr>\n",
              "    <tr>\n",
              "      <th>4499</th>\n",
              "      <td>549</td>\n",
              "    </tr>\n",
              "  </tbody>\n",
              "</table>\n",
              "<p>4500 rows × 1 columns</p>\n",
              "</div>"
            ],
            "text/plain": [
              "      Data\n",
              "0      518\n",
              "1      400\n",
              "2      532\n",
              "3      546\n",
              "4      528\n",
              "...    ...\n",
              "4495   497\n",
              "4496   529\n",
              "4497   524\n",
              "4498   400\n",
              "4499   549\n",
              "\n",
              "[4500 rows x 1 columns]"
            ]
          },
          "metadata": {
            "tags": []
          },
          "execution_count": 77
        }
      ]
    },
    {
      "cell_type": "markdown",
      "metadata": {
        "id": "OJl42U8sds9o"
      },
      "source": [
        "We see that there are 3935 samples of data. To get a sense of the distribution, we should plot a histogram."
      ]
    },
    {
      "cell_type": "markdown",
      "metadata": {
        "id": "JSEJ6MCGpRUi"
      },
      "source": [
        "##Plotting the Histogram"
      ]
    },
    {
      "cell_type": "code",
      "metadata": {
        "colab": {
          "base_uri": "https://localhost:8080/",
          "height": 367
        },
        "id": "No3OVW3dc4MJ",
        "outputId": "5925ffc5-1146-46b0-8459-2efa54cd3b93"
      },
      "source": [
        "plt.hist(df['Data'],bins=20)"
      ],
      "execution_count": 78,
      "outputs": [
        {
          "output_type": "execute_result",
          "data": {
            "text/plain": [
              "(array([231., 206., 250., 194., 270., 198., 244., 231., 247., 189., 237.,\n",
              "        207., 241., 218., 210., 214., 245., 200., 229., 239.]),\n",
              " array([400. , 407.5, 415. , 422.5, 430. , 437.5, 445. , 452.5, 460. ,\n",
              "        467.5, 475. , 482.5, 490. , 497.5, 505. , 512.5, 520. , 527.5,\n",
              "        535. , 542.5, 550. ]),\n",
              " <a list of 20 Patch objects>)"
            ]
          },
          "metadata": {
            "tags": []
          },
          "execution_count": 78
        },
        {
          "output_type": "display_data",
          "data": {
            "image/png": "[encoded data removed]",
            "text/plain": [
              "<Figure size 432x288 with 1 Axes>"
            ]
          },
          "metadata": {
            "tags": [],
            "needs_background": "light"
          }
        }
      ]
    },
    {
      "cell_type": "markdown",
      "metadata": {
        "id": "JZpmyV0eezlU"
      },
      "source": [
        "# **Fitting** **a** **Uniform** **distribution**\n",
        "From the histogram, the distribution could be modelled as Uniform(**$a$**,**$b$**). The next step is to estimate $a$ and $b$ from the given samples.\n",
        "\n",
        "## **Method** **of** **moments**\n",
        "Suppose $m_1$ and $m_2$ are the first and second moments of the samples. The method of moments estimates are obtained by solving\n",
        "$$m_1=\\frac{a+b}{2},$$\n",
        "$$m_2=\\frac{a^2 +ab + b^2}{3}.$$\n",
        "## **The** **solution** **results** **is**\n",
        "$${a}={m_1-\\sqrt{3(m_2 - m_1^2)}}.$$\n",
        "$${b}={m_1+\\sqrt{3(m_2 - m_1^2)}}.$$\n",
        "\n",
        "\n",
        "\n",
        "> Here $m_1$ is observed to be the $sample$ $mean$ and it can be observed that $\\sqrt{(m_2 - m_1^2)}$ is nothing but the $variance$ of the observations.  \n",
        "\n"
      ]
    },
    {
      "cell_type": "code",
      "metadata": {
        "colab": {
          "base_uri": "https://localhost:8080/"
        },
        "id": "UBtNJU6gjB23",
        "outputId": "f71a9aa0-b711-472b-e676-89fc8f2998f5"
      },
      "source": [
        "x = np.array(df['Data'])\n",
        "m1 = np.average(x)\n",
        "ss = np.var(x)\n",
        "print(m1)\n",
        "print(ss)\n"
      ],
      "execution_count": 79,
      "outputs": [
        {
          "output_type": "stream",
          "text": [
            "474.5417777777778\n",
            "1891.7993657283948\n"
          ],
          "name": "stdout"
        }
      ]
    },
    {
      "cell_type": "code",
      "metadata": {
        "colab": {
          "base_uri": "https://localhost:8080/"
        },
        "id": "Qdmlr7evlD9R",
        "outputId": "3eb452aa-bf4f-4210-c4ba-5cdd9a3e704b"
      },
      "source": [
        "a = m1 - (1.73*(ss**0.5))\n",
        "b = m1 + (1.73*(ss**0.5))\n",
        "print(a)\n",
        "print(b)"
      ],
      "execution_count": 80,
      "outputs": [
        {
          "output_type": "stream",
          "text": [
            "399.2957391997336\n",
            "549.787816355822\n"
          ],
          "name": "stdout"
        }
      ]
    },
    {
      "cell_type": "markdown",
      "metadata": {
        "id": "CDqtb1rbtNoZ"
      },
      "source": [
        "## **Check to see if the distribution used fit's or not.**"
      ]
    },
    {
      "cell_type": "markdown",
      "metadata": {
        "id": "ZLZ853v0nr66"
      },
      "source": [
        "The data generated was generated using python for a range of **400** to **550** hence the value that we get of the estimators fit and the method of moment satisfies our expression."
      ]
    },
    {
      "cell_type": "markdown",
      "metadata": {
        "id": "USKGGSPkqXuH"
      },
      "source": [
        "# **Bootstrap** **Method**\n",
        "\n",
        "How do we find the bias and variance of the estimator? Theoretical derivations of the sampling distributions may be too cumbersome and difficult in most cases. Bootstrap is a Monte Carlo simulation method for computing metrics such as bias, variance and confidence intervals for estimators.\n",
        "\n",
        "In the above example, we have found ${a}=399.2957...$ and ${b}=549.7878....$. Using these values, we simulate $n=4500$ *iid* samples from uniform$(399.2957...,549.7878....)$ and, using the simulated samples, we compute new estimates of $a$ and $b$ and call them $\\hat{a}$ and $\\hat{b}$. Now, repeat the simulation $N$ times to get estimates $\\hat{a}_i$ and $\\hat{b}_i$, $i=1,2,\\ldots,N$.\n",
        "\n",
        "The sample variance of $\\{\\hat{a}_1, \\hat{a}_2,\\ldots,\\hat{a}_N\\}$ is taken to be the bootstrap estimate for the variance of the estimator."
      ]
    },
    {
      "cell_type": "code",
      "metadata": {
        "id": "NOezpMTR1K3U"
      },
      "source": [
        "N = 1000\n",
        "n = 4500\n",
        "a1 = np.zeros(N)\n",
        "b1 = np.zeros(N)\n",
        "for i in np.arange(N):\n",
        "  xi = st.uniform.rvs(a,b,size=n)\n",
        "  m1i = np.average(xi); ssi = np.var(xi) \n",
        "  a1[i] = m1i - (1.73*(ssi**0.5)) ; b1[i] = m1 + (1.73*(ssi**0.5))"
      ],
      "execution_count": 81,
      "outputs": []
    },
    {
      "cell_type": "markdown",
      "metadata": {
        "id": "C8iJSHwo4xFl"
      },
      "source": [
        "We can see the histograms of the estimates to get an idea of the spread of the values."
      ]
    },
    {
      "cell_type": "code",
      "metadata": {
        "colab": {
          "base_uri": "https://localhost:8080/",
          "height": 367
        },
        "id": "LhBsFxOs5Uco",
        "outputId": "9864b0ce-2941-42ce-d7ef-55004980d0c1"
      },
      "source": [
        "ax1 = plt.subplot(121)\n",
        "ax1.hist(a1,density=True)\n",
        "ax2 = plt.subplot(122)\n",
        "ax2.hist(b1,density=True)"
      ],
      "execution_count": 82,
      "outputs": [
        {
          "output_type": "execute_result",
          "data": {
            "text/plain": [
              "(array([0.01303457, 0.04887962, 0.11649644, 0.18329859, 0.20122112,\n",
              "        0.1645614 , 0.06109953, 0.01955185, 0.00570262, 0.00081466]),\n",
              " array([743.88412863, 745.11163399, 746.33913935, 747.5666447 ,\n",
              "        748.79415006, 750.02165541, 751.24916077, 752.47666612,\n",
              "        753.70417148, 754.93167684, 756.15918219]),\n",
              " <a list of 10 Patch objects>)"
            ]
          },
          "metadata": {
            "tags": []
          },
          "execution_count": 82
        },
        {
          "output_type": "display_data",
          "data": {
            "image/png": "[encoded data removed]",
            "text/plain": [
              "<Figure size 432x288 with 2 Axes>"
            ]
          },
          "metadata": {
            "tags": [],
            "needs_background": "light"
          }
        }
      ]
    },
    {
      "cell_type": "markdown",
      "metadata": {
        "id": "hr_MYGs02xiP"
      },
      "source": [
        "Notice how the histograms look roughly normal.\n",
        "\n",
        "The sample standard deviations of the estimates is a bootstrap estimate for the standard error of the estimator."
      ]
    },
    {
      "cell_type": "code",
      "metadata": {
        "colab": {
          "base_uri": "https://localhost:8080/"
        },
        "id": "zePWrNkj2gYb",
        "outputId": "e610ea13-0d0e-4de2-998f-9ee01e12d5c6"
      },
      "source": [
        "print(np.sqrt(np.var(a1)))\n",
        "print(np.sqrt(np.var(b1)))"
      ],
      "execution_count": 83,
      "outputs": [
        {
          "output_type": "stream",
          "text": [
            "2.9143316573979976\n",
            "1.86311846775389\n"
          ],
          "name": "stdout"
        }
      ]
    },
    {
      "cell_type": "markdown",
      "metadata": {
        "id": "eMyCTvb-7I-r"
      },
      "source": [
        "# **Confidence** **intervals**\n",
        "Suppose a parameter $\\theta$ is estimated as $\\hat{\\theta}$, and suppose the distribution of $\\hat{\\theta}-\\theta$ is known. Then, to obtain $(100(1-\\alpha))$% confidence intervals (typical values are $\\alpha=0.1$ for 90% confidence intervals and $\\alpha=0.05$ for 95% confidence intervals), we use the CDF of $\\hat{\\theta}-\\theta$ to obtain $\\delta_1$ and $\\delta_2$ such that\n",
        "$$P(\\hat{\\theta}-\\theta\\le\\delta_1)=1-\\frac{a}{2},$$\n",
        "$$P(\\hat{\\theta}-\\theta\\le\\delta_2)=\\frac{a}{2}.$$\n",
        "Actually, the inverse of the CDF of $\\hat{\\theta}-\\theta$ is used to find the above $\\delta_1$ and $\\delta_2$. From the above, we see that\n",
        "$$P(\\hat{\\theta}-\\theta \\le \\delta_1)-P(\\hat{\\theta}-\\theta \\le \\delta_2)= P(\\delta_2< \\hat{\\theta}-\\theta \\le \\delta_1)=1-\\frac{a}{2}-\\frac{a}{2}=1-a.$$\n",
        "The above is rewritten as\n",
        "$$P(\\hat{\\theta}-\\delta_1\\le\\theta<\\hat{\\theta}-\\delta_2)=1-a,$$\n",
        "and $[\\hat{\\theta}-\\delta_1,\\hat{\\theta}-\\delta_2]$ is interpreted as the $100(1-a)$% confidence interval.\n",
        "\n",
        "## Bootstrap confidence intervals for **a**\n",
        "The CDF of $\\hat{\\theta}-\\theta$ might be difficult to determine in many cases, and the bootstrap method is used often to estimate $\\delta_1$ and $\\delta_2$. We consider the list of numbers $\\{\\hat{a_1}-399.2957...,\\ldots,\\hat{a}_N-399.2957...\\}$ and pick the $100(a)$-th percentile and $100(1-a)$-th percentile."
      ]
    },
    {
      "cell_type": "code",
      "metadata": {
        "colab": {
          "base_uri": "https://localhost:8080/"
        },
        "id": "_ZbTUlDjggDZ",
        "outputId": "c952cea5-e5eb-4974-b912-618315e6f9a2"
      },
      "source": [
        "del1 = np.percentile(a1 - a, 97.5)\n",
        "del2 = np.percentile(a1 -a, 2.5)\n",
        "print([del1,del2])"
      ],
      "execution_count": 84,
      "outputs": [
        {
          "output_type": "stream",
          "text": [
            "[6.2922456786593415, -5.451397825450704]\n"
          ],
          "name": "stdout"
        }
      ]
    },
    {
      "cell_type": "markdown",
      "metadata": {
        "id": "wPVrUEyxlJxO"
      },
      "source": [
        "The 95% confidence interval for **$a$** using the method of moments estimator works out to $[(399.2957-6.49625),(399.2957-(-5.0227))]=[392.7995,404.3184]$.\n",
        "\n",
        "\n",
        "\n",
        "## It can be clearly observed that the confidence interval that we get for $a$ stands up to the mark and is satisfactory.\n"
      ]
    },
    {
      "cell_type": "markdown",
      "metadata": {
        "id": "clVwwZT1gbwt"
      },
      "source": [
        "#**Maximum** **likelihood** **method**\n",
        "We now turn to the maximum likelihood estimator for  $a$  and  $b$.\n",
        "\n",
        "\n",
        "First, $a≤min(X1,…,Xn)$ and $b≥max(X1,…,Xn)$\n",
        "\n",
        "That is because otherwise we wouldn't be able to have the samples $X_i$ which are less than $a$ or greater than $b$ because the distribution is\n",
        "\n",
        "$X_i$ ∼ $Unif(a,b)$\n",
        "\n",
        "and the minimum value $X_i$ can have is a, and the maximum value $X_i$ can have is $b$.\n",
        "\n",
        "The likelihood function is\n",
        "\n",
        "$$L(a,b)=\\prod_{i=1}^nf(x_i;a,b)={\\prod_{i=0}^n \\frac{1}{(b−a)}}=\\frac{1}{(b−a)^n}$$\n",
        "\n",
        "Consider the log-likelihood function\n",
        "\n",
        "$$logL(a,b)=log{\\prod_{i=0}^n}f(xi;a,b)=log{\\prod_{i=0}^n}\\frac{1}{(b−a)^n}=log((b−a)−n)=−n⋅log(b−a)$$\n",
        "\n",
        "Note that we are looking for the arguments a and b that maximizes the likelihood (or the log-likelihood)\n",
        "\n",
        "Now, to find $\\hat{a}_{MLE}$ and $\\hat{b}_{MLE}$ take the log-likelihood function derivatives with respect to a and b\n",
        "\n",
        "$$\\frac{∂}{∂a}logL(a,b)=\\frac{n}{(b−a)}$$\n",
        "$$\\frac{∂}{∂b}logL(a,b)=\\frac{−n}{(b−a)}$$\n",
        "\n",
        "We can see that the derivative with respect to a is monotonically increasing, So we take the largest a possible which is\n",
        "$$\\hat{a}_{MLE} = min(X1,...,Xn)$$\n",
        "\n",
        "We can also see that the derivative with respect to b is monotonically decreasing, so we take the smallest b possible which is\n",
        "$$\\hat{b}_{MLE} = max(X1,...,Xn)$$\n",
        "**The following method can we calculated manually for a uniform distribution as we have already estimated the max and min value of the random variable and with n being know we get that the likewise estimators also have same value as that of the above estimators.**"
      ]
    }
  ]
}